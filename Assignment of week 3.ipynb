{
    "nbformat_minor": 1, 
    "cells": [
        {
            "source": "# Assignment of week 3 - Segmenting and Clustering Neighborhoods in Toronto", 
            "cell_type": "markdown", 
            "metadata": {
                "collapsed": true
            }
        }, 
        {
            "source": "## Part 1", 
            "cell_type": "markdown", 
            "metadata": {}
        }, 
        {
            "source": "To create the dataframe:\n\n- The dataframe will consist of three columns: PostalCode, Borough, and Neighborhood\n- Only process the cells that have complete information and not greyed out or not assigned.\n    - For each cell, the postal code will go under the PostalCode column, the first line under the postal code will go under Borough, and the remaining lines will go under the Neighborhood column formatted nicely and separated with commas as shown in the sample dataframe. \n    - For example, for cell (1, 3) on the Wikipedia page, M3A will go under PostalCode, North York will go under Borough, and Parkwoods will go under Neighborhood.\n- If a cell has only one line under the postal code, like cell (1, 7), then that line will go under the Borough and the Neighborhood columns. So for cell (1, 7), the value of the Borough and the Neighborhood column will be Queen's Park.\n- Clean your Notebook and add Markdown cells to explain your work and any assumptions you are making.\n- In the last cell of your notebook, use the .shape method to print the number of rows of your dataframe.", 
            "cell_type": "markdown", 
            "metadata": {}
        }, 
        {
            "source": "## Import needed libraries", 
            "cell_type": "markdown", 
            "metadata": {}
        }, 
        {
            "execution_count": 1, 
            "cell_type": "code", 
            "metadata": {}, 
            "outputs": [], 
            "source": "import pandas as pd\nimport requests\nfrom bs4 import BeautifulSoup"
        }, 
        {
            "source": "## Get the Wikipedia page", 
            "cell_type": "markdown", 
            "metadata": {}
        }, 
        {
            "execution_count": 4, 
            "cell_type": "code", 
            "metadata": {}, 
            "outputs": [], 
            "source": "wikipediaPage = requests.get(\"https://en.wikipedia.org/wiki/List_of_postal_codes_of_Canada:_M\")"
        }, 
        {
            "source": "## Extract the info from the page", 
            "cell_type": "markdown", 
            "metadata": {}
        }, 
        {
            "execution_count": 6, 
            "cell_type": "code", 
            "metadata": {}, 
            "outputs": [], 
            "source": "# import it in a soup object\nsoup = BeautifulSoup(wikipediaPage.content, 'html5lib')\n\n# get the table with the needed info\ntable = soup.find_all('table')[0]\n\n# extract all <td> from the table\ntds = table.find_all('td')"
        }, 
        {
            "source": "### Content of a <td\\>\n##### Valid\n    <td style=\"vertical-align:top;\">\n        <p>\n            <b>M1B</b>\n            <br/>\n            <span style=\"font-size:80%;\">\n                <a href=\"/wiki/Scarborough,_Toronto\" title=\"Scarborough, Toronto\">Scarborough</a>\n                <br/>(<a href=\"/wiki/Malvern,_Toronto\" title=\"Malvern, Toronto\">Malvern</a> / <a href=\"/wiki/Rouge,_Toronto\" title=\"Rouge, Toronto\">Rouge</a>)</span>\n        </p>\n    </td>\n\n##### Invalid\n    <td style=\"width:11%; vertical-align:top; color:#ccc;\">\n        <p>\n            <b>M1A</b>\n            <br/>\n            <span style=\"font-size:80%;\">\n                <i>Not assigned</i>\n            </span>\n        </p>\n    </td>", 
            "cell_type": "markdown", 
            "metadata": {}
        }, 
        {
            "source": "## Define a function for parsing the html", 
            "cell_type": "markdown", 
            "metadata": {}
        }, 
        {
            "execution_count": 64, 
            "cell_type": "code", 
            "metadata": {}, 
            "outputs": [], 
            "source": "# function to parse the <td> and return an entry for the dataframe : return PostalCode, Borough, Neighborhood\ndef parseTableData(td):\n    postalCode = td.b.get_text()\n    borough = None\n    neighborhood = None\n    \n    try:\n        a1 = td.find('a')\n    except:\n        a1 = None\n        \n    if (a1 != None):\n        borough = a1.get_text()\n    \n    a2s = []\n    try:\n        if (a1 != None):    \n            a2s = a1.find_next_siblings('a')\n    except:\n        a2s = []\n    \n    if (a2s != []):\n        neighborhood = ''\n        for a2 in a2s:\n            if (neighborhood != ''):\n                neighborhood = neighborhood + ', '\n            neighborhood = neighborhood + a2.get_text()\n    elif (borough != None):\n        neighborhood = borough\n        \n    return postalCode, borough, neighborhood"
        }, 
        {
            "source": "## Create and fill the dataframe", 
            "cell_type": "markdown", 
            "metadata": {}
        }, 
        {
            "execution_count": 77, 
            "cell_type": "code", 
            "metadata": {}, 
            "outputs": [], 
            "source": "# define the dataframe columns\ncolumn_names = ['PostalCode', 'Borough', 'Neighborhood'] \n\n# instantiate the dataframe\nneighborhoods = pd.DataFrame(columns=column_names)"
        }, 
        {
            "source": "#### I am assuming that invalid data (<td\\> content) contains a field equal to None (see function parseTableData)", 
            "cell_type": "markdown", 
            "metadata": {}
        }, 
        {
            "execution_count": 78, 
            "cell_type": "code", 
            "metadata": {}, 
            "outputs": [
                {
                    "output_type": "stream", 
                    "name": "stdout", 
                    "text": "Skipped 79 invalid entries and added 101 valid ones.\n"
                }
            ], 
            "source": "# fill the dataframe\ncounter = 0\nfor td in tds:\n    data = parseTableData(td)\n    # skip invalid data\n    if (None in data):\n        counter = counter + 1\n        continue\n    neighborhoods = neighborhoods.append({'PostalCode': data[0], 'Borough': data[1], 'Neighborhood': data[2]}, ignore_index=True)\nprint('Skipped {} invalid entries and added {} valid ones.'.format(counter, len(tds)-counter))"
        }, 
        {
            "execution_count": 79, 
            "cell_type": "code", 
            "metadata": {}, 
            "outputs": [
                {
                    "execution_count": 79, 
                    "metadata": {}, 
                    "data": {
                        "text/plain": "(101, 3)"
                    }, 
                    "output_type": "execute_result"
                }
            ], 
            "source": "neighborhoods.shape"
        }
    ], 
    "metadata": {
        "kernelspec": {
            "display_name": "Python 3.5", 
            "name": "python3", 
            "language": "python"
        }, 
        "language_info": {
            "mimetype": "text/x-python", 
            "nbconvert_exporter": "python", 
            "version": "3.5.5", 
            "name": "python", 
            "file_extension": ".py", 
            "pygments_lexer": "ipython3", 
            "codemirror_mode": {
                "version": 3, 
                "name": "ipython"
            }
        }
    }, 
    "nbformat": 4
}