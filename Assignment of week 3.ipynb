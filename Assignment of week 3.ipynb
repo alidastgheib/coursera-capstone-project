{
    "nbformat_minor": 1, 
    "cells": [
        {
            "source": "# Assignment of week 3 - Segmenting and Clustering Neighborhoods in Toronto", 
            "cell_type": "markdown", 
            "metadata": {
                "collapsed": true
            }
        }, 
        {
            "source": "## Part 1", 
            "cell_type": "markdown", 
            "metadata": {}
        }, 
        {
            "source": "To create the dataframe:\n\n- The dataframe will consist of three columns: PostalCode, Borough, and Neighborhood\n- Only process the cells that have complete information and not greyed out or not assigned.\n    - For each cell, the postal code will go under the PostalCode column, the first line under the postal code will go under Borough, and the remaining lines will go under the Neighborhood column formatted nicely and separated with commas as shown in the sample dataframe. \n    - For example, for cell (1, 3) on the Wikipedia page, M3A will go under PostalCode, North York will go under Borough, and Parkwoods will go under Neighborhood.\n- If a cell has only one line under the postal code, like cell (1, 7), then that line will go under the Borough and the Neighborhood columns. So for cell (1, 7), the value of the Borough and the Neighborhood column will be Queen's Park.\n- Clean your Notebook and add Markdown cells to explain your work and any assumptions you are making.\n- In the last cell of your notebook, use the .shape method to print the number of rows of your dataframe.", 
            "cell_type": "markdown", 
            "metadata": {}
        }, 
        {
            "source": "## Import needed libraries", 
            "cell_type": "markdown", 
            "metadata": {}
        }, 
        {
            "execution_count": 1, 
            "cell_type": "code", 
            "metadata": {}, 
            "outputs": [], 
            "source": "import pandas as pd\nimport requests\nfrom bs4 import BeautifulSoup"
        }, 
        {
            "source": "## Get the Wikipedia page", 
            "cell_type": "markdown", 
            "metadata": {}
        }, 
        {
            "execution_count": 2, 
            "cell_type": "code", 
            "metadata": {}, 
            "outputs": [], 
            "source": "wikipediaPage = requests.get(\"https://en.wikipedia.org/wiki/List_of_postal_codes_of_Canada:_M\")"
        }, 
        {
            "source": "## Extract the info from the page", 
            "cell_type": "markdown", 
            "metadata": {}
        }, 
        {
            "execution_count": 3, 
            "cell_type": "code", 
            "metadata": {}, 
            "outputs": [], 
            "source": "# import it in a soup object\nsoup = BeautifulSoup(wikipediaPage.content, 'html5lib')\n\n# get the table with the needed info\ntable = soup.find_all('table')[0]\n\n# extract all <td> from the table\ntds = table.find_all('td')"
        }, 
        {
            "source": "### Content of a <td\\>\n##### Valid\n    <td style=\"vertical-align:top;\">\n        <p>\n            <b>M1B</b>\n            <br/>\n            <span style=\"font-size:80%;\">\n                <a href=\"/wiki/Scarborough,_Toronto\" title=\"Scarborough, Toronto\">Scarborough</a>\n                <br/>(<a href=\"/wiki/Malvern,_Toronto\" title=\"Malvern, Toronto\">Malvern</a> / <a href=\"/wiki/Rouge,_Toronto\" title=\"Rouge, Toronto\">Rouge</a>)</span>\n        </p>\n    </td>\n\n##### Invalid\n    <td style=\"width:11%; vertical-align:top; color:#ccc;\">\n        <p>\n            <b>M1A</b>\n            <br/>\n            <span style=\"font-size:80%;\">\n                <i>Not assigned</i>\n            </span>\n        </p>\n    </td>", 
            "cell_type": "markdown", 
            "metadata": {}
        }, 
        {
            "source": "## Define functions for parsing the html", 
            "cell_type": "markdown", 
            "metadata": {}
        }, 
        {
            "execution_count": 8, 
            "cell_type": "code", 
            "metadata": {}, 
            "outputs": [], 
            "source": "# split the given strings from a string list based on given separator and outpu a list of the splitted strings\ndef extractString(strInputList, separator):\n    strOutputList = []\n    for si in strInputList:\n        splitted = si.split(separator)\n        strOutputList.extend(splitted)\n    return strOutputList\n"
        }, 
        {
            "execution_count": 9, 
            "cell_type": "code", 
            "metadata": {}, 
            "outputs": [], 
            "source": "# compute the neighborhood string based on a list of strings extracted from the td data\ndef computeNeighborhood(inputStringList):\n    neighborhood = None\n    \n    processed = extractString(inputStringList, '(')\n    processed = extractString(processed, ')')\n    processed = extractString(processed, '/')\n    \n    for s in processed:\n        sClean = s.strip()\n        if sClean != '':\n            if neighborhood == None:\n                neighborhood = sClean\n            else:\n                neighborhood = neighborhood + ', ' + sClean\n    \n    return neighborhood\n"
        }, 
        {
            "execution_count": 10, 
            "cell_type": "code", 
            "metadata": {}, 
            "outputs": [], 
            "source": "# function to parse the <td> and return an entry for the dataframe : return PostalCode, Borough, Neighborhood\ndef parseTableData(td):\n    postalCode = None\n    borough = None\n    neighborhood = None\n    otherString = ''\n    foundFirst = False\n\n    index = 0\n    for string in td.stripped_strings:\n        if index == 0:\n            postalCode = str(string).strip()\n        elif index == 1:\n            if string == 'Not assigned':\n                break\n            else:\n                borough = str(string).strip()\n        else:\n            if '(' in string:\n                foundFirst = True\n            if foundFirst:\n                otherString = otherString + str(string).strip()\n            \n        index = index + 1\n\n    if postalCode != None and borough != None:\n        neighborhood = computeNeighborhood([otherString])\n        if neighborhood == None:\n            neighborhood = borough\n    \n    return postalCode, borough, neighborhood\n"
        }, 
        {
            "source": "## Create and fill the dataframe", 
            "cell_type": "markdown", 
            "metadata": {}
        }, 
        {
            "execution_count": 11, 
            "cell_type": "code", 
            "metadata": {}, 
            "outputs": [], 
            "source": "# define the dataframe columns\ncolumn_names = ['PostalCode', 'Borough', 'Neighborhood'] \n\n# instantiate the dataframe\nneighborhoods = pd.DataFrame(columns=column_names)"
        }, 
        {
            "source": "#### I am assuming that invalid data (<td\\> content) contains a field equal to None (see function parseTableData)", 
            "cell_type": "markdown", 
            "metadata": {}
        }, 
        {
            "execution_count": 12, 
            "cell_type": "code", 
            "metadata": {}, 
            "outputs": [
                {
                    "output_type": "stream", 
                    "name": "stdout", 
                    "text": "Skipped 77 invalid entries and added 103 valid ones.\n"
                }
            ], 
            "source": "# fill the dataframe\ncounter = 0\nfor td in tds:\n    data = parseTableData(td)\n    # skip invalid data\n    if (None in data):\n        counter = counter + 1\n        continue\n    neighborhoods = neighborhoods.append({'PostalCode': data[0], 'Borough': data[1], 'Neighborhood': data[2]}, ignore_index=True)\nprint('Skipped {} invalid entries and added {} valid ones.'.format(counter, len(tds)-counter))"
        }, 
        {
            "execution_count": 13, 
            "cell_type": "code", 
            "metadata": {}, 
            "outputs": [
                {
                    "execution_count": 13, 
                    "metadata": {}, 
                    "data": {
                        "text/plain": "(103, 3)"
                    }, 
                    "output_type": "execute_result"
                }
            ], 
            "source": "neighborhoods.shape"
        }
    ], 
    "metadata": {
        "kernelspec": {
            "display_name": "Python 3.5", 
            "name": "python3", 
            "language": "python"
        }, 
        "language_info": {
            "mimetype": "text/x-python", 
            "nbconvert_exporter": "python", 
            "version": "3.5.5", 
            "name": "python", 
            "file_extension": ".py", 
            "pygments_lexer": "ipython3", 
            "codemirror_mode": {
                "version": 3, 
                "name": "ipython"
            }
        }
    }, 
    "nbformat": 4
}