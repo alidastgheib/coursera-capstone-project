{
    "nbformat_minor": 1, 
    "cells": [
        {
            "execution_count": null, 
            "cell_type": "code", 
            "metadata": {}, 
            "outputs": [], 
            "source": "import pandas as pd\nimport requests\nfrom bs4 import BeautifulSoup\n\nimport numpy as np # library to handle data in a vectorized manner\n\npd.set_option('display.max_columns', None)\npd.set_option('display.max_rows', None)\n\n!conda install -c conda-forge geopy --yes\nfrom geopy.geocoders import Nominatim # convert an address into latitude and longitude values\n\n# Matplotlib and associated plotting modules\nimport matplotlib.cm as cm\nimport matplotlib.colors as colors\n\n# import k-means from clustering stage\nfrom sklearn.cluster import KMeans\n\n!conda install -c conda-forge folium=0.5.0 --yes # uncomment this line if you haven't completed the Foursquare API lab\nimport folium # map rendering library\n\nprint('Libraries imported.')"
        }, 
        {
            "execution_count": null, 
            "cell_type": "code", 
            "metadata": {}, 
            "outputs": [], 
            "source": "wikipediaPage = requests.get(\"https://en.wikipedia.org/wiki/Subdivisions_of_Z%C3%BCrich\")"
        }, 
        {
            "execution_count": null, 
            "cell_type": "code", 
            "metadata": {}, 
            "outputs": [], 
            "source": "# import it in a soup object\nsoup = BeautifulSoup(wikipediaPage.content, 'html5lib')\n\n# get the table with the needed info\ntable = soup.find_all('table')[1]\n\n# extract all <tr> from the table\ntrs = table.find_all('tr')"
        }, 
        {
            "execution_count": null, 
            "cell_type": "code", 
            "metadata": {}, 
            "outputs": [], 
            "source": "# function to parse the <tr> and return an entry for the dataframe : return Borough, Neighborhood\ndef parseTableRow(tr, index):\n    borough = 'District ' + str(index)\n    \n    neighborhood = ''\n\n    td = tr.find_next('td')\n    td = td.next_sibling\n    td = td.next_sibling\n    td = td.next_sibling\n    td = td.next_sibling\n    td = td.next_sibling\n    td = td.next_sibling\n    \n    for string in td.stripped_strings:\n        if (neighborhood != ''):\n            neighborhood = neighborhood + ', '\n        neighborhood = neighborhood + string\n    \n    return borough, neighborhood"
        }, 
        {
            "execution_count": null, 
            "cell_type": "code", 
            "metadata": {}, 
            "outputs": [], 
            "source": "# define the dataframe columns\ncolumn_names = ['Borough', 'Neighborhood'] \n\n# instantiate the dataframe\nneighborhoods = pd.DataFrame(columns=column_names)\nneighborhoods"
        }, 
        {
            "execution_count": null, 
            "cell_type": "code", 
            "metadata": {}, 
            "outputs": [], 
            "source": "# fill the dataframe\nindex = 1\nfor tr in trs:\n    if 'District ' in str(tr):\n        data = parseTableRow(tr, index)\n        neighborhoods = neighborhoods.append({'Borough': data[0], 'Neighborhood': data[1]}, ignore_index=True)\n        index = index + 1"
        }, 
        {
            "execution_count": null, 
            "cell_type": "code", 
            "metadata": {}, 
            "outputs": [], 
            "source": "neighborhoods"
        }, 
        {
            "execution_count": null, 
            "cell_type": "code", 
            "metadata": {}, 
            "outputs": [], 
            "source": "# The code was removed by Watson Studio for sharing."
        }, 
        {
            "execution_count": null, 
            "cell_type": "code", 
            "metadata": {}, 
            "outputs": [], 
            "source": "baseUrl = 'https://maps.googleapis.com/maps/api/geocode/json?'"
        }, 
        {
            "execution_count": null, 
            "cell_type": "code", 
            "metadata": {}, 
            "outputs": [], 
            "source": "def getLocation(district):\n    \"\"\" \n    Search for information for place Z\u00fcrich<district>\n    return the found place latitude and longitude (return latitude, longitude)\n    \"\"\"\n    url = (baseUrl+'&address={}').format('Z\u00fcrich'+district)\n    response = requests.get(url).json() # get response\n    \n    success = False\n    while not success:\n        try:\n            geographical_data = response['results'][0]['geometry']['location'] # get geographical coordinates\n            success = True\n        except: \n            pass\n    \n    latitude = geographical_data['lat']\n    longitude = geographical_data['lng']\n    return latitude, longitude"
        }, 
        {
            "execution_count": null, 
            "cell_type": "code", 
            "metadata": {}, 
            "outputs": [], 
            "source": "nh = neighborhoods.copy()\n\nlatitudeCln = []\nlongitudeCln = []\nfor index, row in nh.iterrows():\n    print(row[0])\n    lat, long = getLocation(row[0])\n    latitudeCln.append(lat)\n    longitudeCln.append(long)\n\nnh['Latitude'] = latitudeCln\nnh['Longitude'] = longitudeCln\n\nnh.shape"
        }, 
        {
            "execution_count": null, 
            "cell_type": "code", 
            "metadata": {}, 
            "outputs": [], 
            "source": "nh"
        }, 
        {
            "execution_count": null, 
            "cell_type": "code", 
            "metadata": {}, 
            "outputs": [], 
            "source": "address = 'Z\u00fcrich, Switzerland'\n\ngeolocator = Nominatim(user_agent=\"capstoneProject\")\nlocation = geolocator.geocode(address, timeout=60, exactly_one=True)\nlatitude = location.latitude\nlongitude = location.longitude\nprint('The geograpical coordinate of Z\u00fcrich are {}, {}.'.format(latitude, longitude))"
        }, 
        {
            "execution_count": null, 
            "cell_type": "code", 
            "metadata": {}, 
            "outputs": [], 
            "source": "# make a copy of the dataframe to get it simply back if needed\nnhz = nh.copy()"
        }, 
        {
            "execution_count": null, 
            "cell_type": "code", 
            "metadata": {}, 
            "outputs": [], 
            "source": "# create map of Z\u00fcrich using latitude and longitude values\nmap_zh = folium.Map(location=[latitude, longitude], zoom_start=12)\n\n# add markers to map\nfor lat, lng, borough, neighborhood in zip(nhz['Latitude'], nhz['Longitude'], nhz['Borough'], nhz['Neighborhood']):\n    label = '{}, {}'.format(neighborhood, borough)\n    label = folium.Popup(label, parse_html=True)\n    folium.CircleMarker(\n        [lat, lng],\n        radius=5,\n        popup=label,\n        color='blue',\n        fill=True,\n        fill_color='#3186cc',\n        fill_opacity=0.7,\n        parse_html=False).add_to(map_zh)  \n    \nmap_zh"
        }, 
        {
            "execution_count": null, 
            "cell_type": "code", 
            "metadata": {}, 
            "outputs": [], 
            "source": "# The code was removed by Watson Studio for sharing."
        }, 
        {
            "execution_count": null, 
            "cell_type": "code", 
            "metadata": {}, 
            "outputs": [], 
            "source": "# function to repeat the exploring process to all the neighborhoods in Toronto\ndef getNearbyVenues(names, latitudes, longitudes, radius=5000, categoryIds=''):\n    \n    venues_list=[]\n    for name, lat, lng in zip(names, latitudes, longitudes):\n        print(name)\n            \n        # create the API request URL\n        url = 'https://api.foursquare.com/v2/venues/search?&client_id={}&client_secret={}&v={}&ll={},{}&radius={}&limit={}'.format(\n            CLIENT_ID, \n            CLIENT_SECRET, \n            VERSION, \n            lat, \n            lng, \n            radius, \n            LIMIT)\n        \n        if (categoryIds != ''):\n            url = url + '&categoryId={}'\n            url.format(categoryIds)\n            \n        # make the GET request\n        results = requests.get(url).json()[\"response\"]['groups'][0]['items']\n        \n        # return only relevant information for each nearby venue\n        venues_list.append([(\n            name, \n            lat, \n            lng, \n            v['venue']['name'], \n            v['venue']['location']['lat'], \n            v['venue']['location']['lng'],  \n            v['venue']['categories'][0]['name']) for v in results])\n\n    nearby_venues = pd.DataFrame([item for venue_list in venues_list for item in venue_list])\n    nearby_venues.columns = ['Neighborhood', \n                  'Neighborhood Latitude', \n                  'Neighborhood Longitude', \n                  'Venue', \n                  'Venue Latitude', \n                  'Venue Longitude', \n                  'Venue Category']\n    \n    return(nearby_venues)"
        }, 
        {
            "execution_count": null, 
            "cell_type": "code", 
            "metadata": {}, 
            "outputs": [], 
            "source": "LIMIT = 500 # limit of number of venues returned by Foursquare API\nradius = 5000 # define radius"
        }, 
        {
            "execution_count": null, 
            "cell_type": "code", 
            "metadata": {}, 
            "outputs": [], 
            "source": "zh_venues = getNearbyVenues(names=nhz['Neighborhood'], latitudes=nhz['Latitude'], longitudes=nhz['Longitude'])"
        }, 
        {
            "execution_count": null, 
            "cell_type": "code", 
            "metadata": {}, 
            "outputs": [], 
            "source": "print(zh_venues.shape)\nzh_venues.head()"
        }, 
        {
            "execution_count": null, 
            "cell_type": "code", 
            "metadata": {}, 
            "outputs": [], 
            "source": "zh_venues.groupby('Neighborhood').count()"
        }, 
        {
            "execution_count": null, 
            "cell_type": "code", 
            "metadata": {}, 
            "outputs": [], 
            "source": "print('There are {} uniques categories.'.format(len(zh_venues['Venue Category'].unique())))"
        }, 
        {
            "execution_count": null, 
            "cell_type": "code", 
            "metadata": {
                "scrolled": true
            }, 
            "outputs": [], 
            "source": "# one hot encoding\nzh_onehot = pd.get_dummies(zh_venues[['Venue Category']], prefix=\"\", prefix_sep=\"\")\n\n# add neighborhood column back to dataframe\nzh_onehot['Neighborhood'] = zh_venues['Neighborhood'] \n\n# move neighborhood column to the first column\nfixed_columns = [zh_onehot.columns[-1]] + list(zh_onehot.columns[:-1])\nzh_onehot = zh_onehot[fixed_columns]\n\nzh_onehot.head()"
        }, 
        {
            "execution_count": null, 
            "cell_type": "code", 
            "metadata": {}, 
            "outputs": [], 
            "source": "zh_grouped = zh_onehot.groupby('Neighborhood').sum().reset_index()\nzh_grouped"
        }, 
        {
            "execution_count": null, 
            "cell_type": "code", 
            "metadata": {}, 
            "outputs": [], 
            "source": "def return_most_common_venues(row, num_top_venues):\n    row_categories = row.iloc[1:]\n    row_categories_sorted = row_categories.sort_values(ascending=False)\n    \n    return row_categories_sorted.index.values[0:num_top_venues]"
        }, 
        {
            "execution_count": null, 
            "cell_type": "code", 
            "metadata": {}, 
            "outputs": [], 
            "source": "num_top_venues = 10\n\nindicators = ['st', 'nd', 'rd']\n\n# create columns according to number of top venues\ncolumns = ['Neighborhood']\nfor ind in np.arange(num_top_venues):\n    try:\n        columns.append('{}{} Most Common Venue'.format(ind+1, indicators[ind]))\n    except:\n        columns.append('{}th Most Common Venue'.format(ind+1))\n\n# create a new dataframe\nneighborhoods_venues_sorted = pd.DataFrame(columns=columns)\nneighborhoods_venues_sorted['Neighborhood'] = zh_grouped['Neighborhood']\n\nfor ind in np.arange(zh_grouped.shape[0]):\n    neighborhoods_venues_sorted.iloc[ind, 1:] = return_most_common_venues(zh_grouped.iloc[ind, :], num_top_venues)\n\nneighborhoods_venues_sorted"
        }, 
        {
            "execution_count": null, 
            "cell_type": "code", 
            "metadata": {}, 
            "outputs": [], 
            "source": ""
        }
    ], 
    "metadata": {
        "kernelspec": {
            "display_name": "Python 3.5", 
            "name": "python3", 
            "language": "python"
        }, 
        "language_info": {
            "mimetype": "text/x-python", 
            "nbconvert_exporter": "python", 
            "version": "3.5.5", 
            "name": "python", 
            "file_extension": ".py", 
            "pygments_lexer": "ipython3", 
            "codemirror_mode": {
                "version": 3, 
                "name": "ipython"
            }
        }
    }, 
    "nbformat": 4
}